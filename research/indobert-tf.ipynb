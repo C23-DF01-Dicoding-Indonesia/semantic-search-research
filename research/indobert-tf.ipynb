{
 "cells": [
  {
   "cell_type": "code",
   "execution_count": 5,
   "metadata": {},
   "outputs": [],
   "source": []
  },
  {
   "cell_type": "code",
   "execution_count": 2,
   "metadata": {},
   "outputs": [
    {
     "name": "stderr",
     "output_type": "stream",
     "text": [
      "Some weights of the PyTorch model were not used when initializing the TF 2.0 model TFBertModel: ['cls.predictions.decoder.weight', 'cls.predictions.transform.LayerNorm.weight', 'cls.predictions.decoder.bias', 'cls.predictions.transform.dense.bias', 'cls.predictions.transform.dense.weight', 'cls.predictions.transform.LayerNorm.bias', 'cls.predictions.bias']\n",
      "- This IS expected if you are initializing TFBertModel from a PyTorch model trained on another task or with another architecture (e.g. initializing a TFBertForSequenceClassification model from a BertForPreTraining model).\n",
      "- This IS NOT expected if you are initializing TFBertModel from a PyTorch model that you expect to be exactly identical (e.g. initializing a TFBertForSequenceClassification model from a BertForSequenceClassification model).\n",
      "All the weights of TFBertModel were initialized from the PyTorch model.\n",
      "If your task is similar to the task the model of the checkpoint was trained on, you can already use TFBertModel for predictions without further training.\n"
     ]
    }
   ],
   "source": [
    "model = TFBertModel.from_pretrained(\"indolem/indobert-base-uncased\", from_pt=True)\n",
    "tokenizer = BertTokenizer.from_pretrained(\"indolem/indobert-base-uncased\", do_lower_case=True)"
   ]
  },
  {
   "cell_type": "code",
   "execution_count": 99,
   "metadata": {},
   "outputs": [],
   "source": [
    "a = tokenizer([\"saya suka kamu\", \"kamu suka saya\"], return_tensors=\"np\")"
   ]
  },
  {
   "cell_type": "code",
   "execution_count": 100,
   "metadata": {},
   "outputs": [
    {
     "name": "stdout",
     "output_type": "stream",
     "text": [
      "{'input_ids': array([[   3, 1731, 4346, 3162,    4],\n",
      "       [   3, 3162, 4346, 1731,    4]]), 'token_type_ids': array([[0, 0, 0, 0, 0],\n",
      "       [0, 0, 0, 0, 0]]), 'attention_mask': array([[1, 1, 1, 1, 1],\n",
      "       [1, 1, 1, 1, 1]])}\n"
     ]
    }
   ],
   "source": [
    "print(a)"
   ]
  },
  {
   "cell_type": "code",
   "execution_count": 77,
   "metadata": {},
   "outputs": [],
   "source": [
    "a = tokenizer.encode_plus(\"saya suka kamu\", return_tensors=\"tf\")"
   ]
  },
  {
   "cell_type": "code",
   "execution_count": 93,
   "metadata": {},
   "outputs": [
    {
     "data": {
      "text/plain": [
       "TFBaseModelOutputWithPoolingAndCrossAttentions(last_hidden_state=<tf.Tensor: shape=(1, 5, 768), dtype=float32, numpy=\n",
       "array([[[-0.4419437 , -0.3854164 ,  0.40307692, ..., -1.5920111 ,\n",
       "         -1.0296483 ,  1.3499001 ],\n",
       "        [ 0.7861722 , -0.67033714, -0.14220957, ..., -1.3011631 ,\n",
       "         -1.5818292 ,  0.66848516],\n",
       "        [ 0.5329278 ,  0.66236085,  0.26370198, ..., -1.0658575 ,\n",
       "         -0.08243226,  1.8859752 ],\n",
       "        [-0.21239184, -1.301323  , -0.01864386, ..., -1.4375464 ,\n",
       "         -1.2756827 ,  1.333538  ],\n",
       "        [-1.5403469 , -0.54620224,  0.2058937 , ..., -1.2940581 ,\n",
       "          0.26325545,  0.3634153 ]]], dtype=float32)>, pooler_output=<tf.Tensor: shape=(1, 768), dtype=float32, numpy=\n",
       "array([[ 0.56310797,  0.251387  ,  0.13200092,  0.53555983, -0.46030936,\n",
       "        -0.8348407 ,  0.27238184,  0.6015707 , -0.23684156,  0.26655543,\n",
       "         0.46752492,  0.3246772 , -0.25005418, -0.5944628 , -0.27367845,\n",
       "         0.76913095, -0.38347015,  0.20927006,  0.24248761, -0.09198966,\n",
       "         0.14048699,  0.50486135,  0.06793573,  0.5140475 , -0.21343681,\n",
       "         0.7321903 , -0.50406337,  0.40486854,  0.46855846, -0.3842731 ,\n",
       "         0.52736706, -0.5684533 ,  0.5299892 ,  0.1649735 ,  0.08871485,\n",
       "        -0.7846685 , -0.11791848, -0.08738153,  0.13639243, -0.4897013 ,\n",
       "         0.05918685, -0.40108973, -0.2891823 , -0.01847735,  0.31525505,\n",
       "         0.37884954,  0.6981746 ,  0.08275675, -0.8495184 , -0.27868742,\n",
       "         0.09784923,  0.1655869 , -0.02654884,  0.27522406,  0.444994  ,\n",
       "        -0.710831  , -0.18934901,  0.7433887 ,  0.35259125,  0.24843024,\n",
       "        -0.9320851 ,  0.3292758 ,  0.51859623,  0.11070193,  0.26536825,\n",
       "         0.0405112 ,  0.17654072,  0.10826424,  0.0059368 ,  0.16637981,\n",
       "         0.06864596,  0.30855858, -0.26641142,  0.26603532,  0.10986659,\n",
       "         0.4915115 , -0.81779677, -0.40739617, -0.15595348, -0.23151018,\n",
       "         0.44123793, -0.46607116,  0.40752357, -0.51294065,  0.01905359,\n",
       "         0.32738936, -0.3824723 , -0.4799365 , -0.15989316, -0.15724407,\n",
       "         0.4736322 ,  0.21736468, -0.25489858,  0.10100729, -0.7871689 ,\n",
       "         0.2037901 , -0.20141879,  0.0298761 , -0.59304357, -0.02144262,\n",
       "         0.15184453, -0.7039007 ,  0.5121763 ,  0.09864131,  0.8110961 ,\n",
       "         0.53956497, -0.41135558, -0.07946732, -0.32583565,  0.37388766,\n",
       "         0.1679452 , -0.37146348,  0.6828448 ,  0.23230386,  0.28747684,\n",
       "        -0.24308759, -0.40568212, -0.20970996, -0.16678685, -0.74495226,\n",
       "         0.11121147,  0.2664103 ,  0.39705765,  0.33788115, -0.09861103,\n",
       "         0.00467258, -0.29338413, -0.0198314 ,  0.67616856,  0.01275276,\n",
       "        -0.09953036,  0.15390211, -0.56492156, -0.0612629 ,  0.20700575,\n",
       "        -0.4822085 ,  0.2590283 ,  0.47113693,  0.7712134 ,  0.02473286,\n",
       "        -0.1696999 , -0.54720867, -0.38761297, -0.3040287 ,  0.6592607 ,\n",
       "         0.20317867,  0.17207326, -0.22711904,  0.22311462,  0.05499543,\n",
       "         0.5861958 ,  0.12706204, -0.19579285, -0.31239823, -0.40245798,\n",
       "         0.12080895,  0.05612647, -0.42374024,  0.18685454, -0.1445587 ,\n",
       "         0.2806856 ,  0.5543019 ,  0.34415925, -0.38078415, -0.00907162,\n",
       "         0.25248918, -0.66913897,  0.1400264 , -0.33469242, -0.06495613,\n",
       "         0.45516425,  0.53932863,  0.27008995, -0.4821962 , -0.59816426,\n",
       "        -0.07010911, -0.44619516,  0.27291754, -0.07009467,  0.6726163 ,\n",
       "        -0.6774671 , -0.32452592,  0.38617882,  0.20447531,  0.18803088,\n",
       "         0.04239857,  0.33078736, -0.18996581, -0.01367327,  0.24087068,\n",
       "         0.4312627 , -0.27707756,  0.39079753, -0.32308736,  0.03889327,\n",
       "         0.28786382,  0.06050479,  0.35546678, -0.11105657, -0.01133798,\n",
       "         0.03861439, -0.5110812 ,  0.4499784 , -0.46874157,  0.25676897,\n",
       "         0.14927258, -0.83645797,  0.4651902 , -0.42222333, -0.33426815,\n",
       "         0.2633105 , -0.25600606, -0.29640788, -0.38715267,  0.5476575 ,\n",
       "        -0.31964868, -0.07414868, -0.5844196 , -0.0991016 ,  0.5144204 ,\n",
       "         0.01857529,  0.39194363, -0.04119798,  0.47399196,  0.14231229,\n",
       "        -0.13160072,  0.43208358,  0.29924697, -0.24749666, -0.24994893,\n",
       "         0.14418358, -0.05125402,  0.44278243,  0.31857163,  0.42358625,\n",
       "         0.7393512 ,  0.60825163,  0.77636635,  0.62058276, -0.09814255,\n",
       "         0.46248943, -0.08374608, -0.37512648, -0.31616995, -0.2577857 ,\n",
       "         0.32501867,  0.42625144,  0.10925689,  0.9152901 , -0.38186958,\n",
       "        -0.4059874 ,  0.53153354,  0.27763593,  0.65728563,  0.2591168 ,\n",
       "        -0.69629604, -0.5940468 ,  0.2333127 , -0.6190641 ,  0.7130231 ,\n",
       "        -0.04317707,  0.23336342, -0.09142747, -0.00894106, -0.08623042,\n",
       "        -0.01801895,  0.805357  ,  0.15124741,  0.7686822 ,  0.07316749,\n",
       "        -0.1265898 , -0.3295213 ,  0.25632036, -0.26569137, -0.5608519 ,\n",
       "        -0.3211081 , -0.74958026,  0.31694752,  0.6642951 ,  0.08377428,\n",
       "        -0.4462049 , -0.33208543,  0.09268958,  0.12710243, -0.14255384,\n",
       "         0.40057853, -0.28491166,  0.36190853,  0.42590773,  0.5370295 ,\n",
       "         0.23918399,  0.31391788,  0.5712664 , -0.5680838 ,  0.45235264,\n",
       "         0.30501983, -0.4228086 ,  0.14834312, -0.13094187, -0.65423757,\n",
       "        -0.7046558 , -0.27879453, -0.4366794 ,  0.8351545 , -0.81914496,\n",
       "         0.5432798 , -0.14922144, -0.39464653, -0.20935643,  0.2715476 ,\n",
       "         0.09113366,  0.49807334,  0.24247225,  0.38016534, -0.82902944,\n",
       "        -0.5424684 ,  0.3718153 , -0.02139816,  0.6902802 ,  0.1946449 ,\n",
       "         0.23802482, -0.04468959,  0.60468966,  0.25880846,  0.50695765,\n",
       "        -0.33391878,  0.47762573,  0.61283916,  0.04716629, -0.09495777,\n",
       "        -0.48258212,  0.36875108,  0.10435084,  0.51628757,  0.60499126,\n",
       "         0.19076295, -0.05559783, -0.23478636,  0.13190725, -0.3979948 ,\n",
       "         0.4199945 ,  0.20575294,  0.15241505,  0.12526414, -0.6037435 ,\n",
       "        -0.28816223, -0.10998843,  0.09091934, -0.5329082 ,  0.3627545 ,\n",
       "        -0.07630008,  0.59959155,  0.32979155,  0.37756646, -0.00849542,\n",
       "        -0.69551975, -0.3643868 ,  0.32333642,  0.6447908 , -0.23450987,\n",
       "         0.6892954 , -0.24865828,  0.01527649, -0.5508108 ,  0.49031246,\n",
       "         0.30615687, -0.85544115, -0.10221225, -0.11922636, -0.31318885,\n",
       "         0.20140556, -0.16526462, -0.20811835, -0.57052225, -0.46508494,\n",
       "        -0.67921156,  0.28909492,  0.35544944,  0.17774923, -0.25929204,\n",
       "         0.18437292, -0.75865936, -0.14775835, -0.26830807,  0.5833792 ,\n",
       "        -0.28022724,  0.43059096,  0.1888602 ,  0.48628455,  0.0434432 ,\n",
       "         0.30829006,  0.38359472, -0.4009701 , -0.04371975, -0.06091522,\n",
       "        -0.4698598 ,  0.72846353,  0.61342514, -0.48588803, -0.5842668 ,\n",
       "         0.17537734, -0.12174911, -0.27003098,  0.07759237,  0.26756757,\n",
       "        -0.24770115,  0.40819332, -0.32096496,  0.23107694,  0.2632335 ,\n",
       "         0.30902076, -0.02116449, -0.1299609 , -0.51003826,  0.27522734,\n",
       "         0.4648337 ,  0.64286417,  0.05391534,  0.04822306, -0.28035834,\n",
       "         0.06370071,  0.3507217 , -0.35591197, -0.56034255,  0.5584287 ,\n",
       "         0.18696466,  0.09781198,  0.03066649,  0.07453743,  0.20281003,\n",
       "        -0.55575454, -0.2404267 ,  0.6863273 ,  0.27331334,  0.69538015,\n",
       "         0.2101372 , -0.53659886,  0.4562418 , -0.46257114, -0.46787372,\n",
       "        -0.04756525,  0.4776631 ,  0.47220382,  0.36118576, -0.6653271 ,\n",
       "         0.10523984, -0.19096187,  0.07618522, -0.0844414 ,  0.32059097,\n",
       "         0.02549451, -0.08440531,  0.02251694, -0.5412124 , -0.25850514,\n",
       "        -0.26825425, -0.42313328,  0.26786524,  0.07215787,  0.09543546,\n",
       "         0.30121866,  0.3923797 , -0.0920805 ,  0.38332763, -0.66091037,\n",
       "         0.63086504, -0.18452282,  0.4449267 , -0.28698087,  0.19849932,\n",
       "         0.21234743, -0.13144666,  0.45008335,  0.33278766,  0.12234543,\n",
       "        -0.12059597, -0.87478334,  0.60328317, -0.56382734, -0.3724459 ,\n",
       "        -0.37392452,  0.31893727,  0.19609894, -0.4236901 , -0.19217363,\n",
       "        -0.7552475 , -0.69873375,  0.38134447, -0.29988036, -0.36981583,\n",
       "        -0.5005415 ,  0.3095609 ,  0.11483897,  0.12443046,  0.44127998,\n",
       "        -0.51154023,  0.8458993 ,  0.5164056 ,  0.15392327,  0.2059818 ,\n",
       "         0.3770841 , -0.11832001, -0.08047975, -0.61398697,  0.36654535,\n",
       "        -0.58417135, -0.4020575 ,  0.37442777, -0.38811493, -0.16898236,\n",
       "         0.75572354,  0.08010454,  0.47253415,  0.26284382,  0.18407068,\n",
       "         0.33256724,  0.64608717,  0.1105506 , -0.16577476, -0.5994786 ,\n",
       "         0.54841626,  0.6832442 , -0.2695868 , -0.41752723,  0.76044804,\n",
       "         0.30145088,  0.12730342,  0.02499606, -0.1340144 , -0.16444786,\n",
       "        -0.34776938,  0.2313516 ,  0.24363141,  0.14572878,  0.07685844,\n",
       "        -0.42488596, -0.65696687, -0.3767107 ,  0.22690895,  0.41116214,\n",
       "         0.74625516,  0.12213293, -0.7362432 , -0.3143884 ,  0.04767291,\n",
       "         0.17564   ,  0.13744427,  0.61661863,  0.12432472, -0.3157107 ,\n",
       "        -0.38147858,  0.02284195, -0.17013489, -0.19886105, -0.37381393,\n",
       "         0.78636086, -0.58961517, -0.10273863, -0.20329931,  0.7893854 ,\n",
       "         0.6498586 , -0.45315892, -0.29961142, -0.46696505,  0.60436416,\n",
       "        -0.21541019,  0.61001676, -0.25260624,  0.22492997,  0.19237247,\n",
       "         0.16788475,  0.00617267,  0.16958345, -0.10766991,  0.46827382,\n",
       "         0.13831675,  0.31121013,  0.31244475,  0.02321567, -0.10923874,\n",
       "         0.11124306, -0.16044973,  0.06014116, -0.6860704 , -0.76906675,\n",
       "        -0.8300432 , -0.14006545, -0.531997  , -0.15661499, -0.20428905,\n",
       "         0.12647216, -0.19741845, -0.7595825 ,  0.25853574,  0.15804996,\n",
       "         0.00465223,  0.77723616,  0.329604  ,  0.4164473 ,  0.19283545,\n",
       "        -0.5785105 ,  0.46610564,  0.47913304,  0.02477483, -0.6133366 ,\n",
       "        -0.2874925 , -0.17752074, -0.40125707, -0.6048559 ,  0.31348798,\n",
       "         0.3160184 , -0.02587966,  0.07741066,  0.19988368, -0.44635606,\n",
       "         0.09527798,  0.46332738, -0.302627  ,  0.07072381, -0.39234328,\n",
       "        -0.21089253, -0.8883807 ,  0.4850196 , -0.6558138 , -0.2760062 ,\n",
       "        -0.11912379, -0.33342427, -0.03943521, -0.381318  , -0.35339966,\n",
       "         0.07216177,  0.14397027,  0.53084016, -0.4362308 , -0.04405708,\n",
       "        -0.6125752 , -0.01392125, -0.7392152 , -0.12951817,  0.61072767,\n",
       "        -0.02354615,  0.3179163 ,  0.27557018,  0.36693564, -0.5678878 ,\n",
       "         0.53530943,  0.06942829,  0.34856427, -0.7785952 , -0.34594458,\n",
       "         0.5634495 ,  0.75912637,  0.31401873,  0.3755573 , -0.62131333,\n",
       "         0.32662517,  0.53297997,  0.2811145 , -0.33707762,  0.19595496,\n",
       "        -0.44578576, -0.3363509 , -0.20373288, -0.12441104,  0.5995271 ,\n",
       "         0.72488177, -0.46984327,  0.4640904 , -0.34577236, -0.19795021,\n",
       "         0.5987911 ,  0.26277927,  0.535345  , -0.50309163,  0.35294846,\n",
       "        -0.6375394 ,  0.6110715 , -0.37994578, -0.03170724,  0.12289543,\n",
       "         0.6327897 ,  0.43436787, -0.00709511,  0.4126193 , -0.4020411 ,\n",
       "        -0.05657456, -0.894501  , -0.16478202, -0.00234274, -0.52977866,\n",
       "         0.1692394 ,  0.56005436,  0.74835163, -0.15851168,  0.39157125,\n",
       "         0.68454486,  0.74324626,  0.06561608,  0.850477  , -0.46337837,\n",
       "        -0.09641781, -0.36336133,  0.29106596, -0.24023773,  0.15456292,\n",
       "        -0.6590864 , -0.4766826 ,  0.64171517, -0.6038205 ,  0.4816433 ,\n",
       "         0.58691704,  0.28352338,  0.19742513, -0.1814369 , -0.01229439,\n",
       "        -0.31445035,  0.2652383 , -0.14885302,  0.3175347 , -0.11246931,\n",
       "         0.43856245,  0.6814458 ,  0.16439249,  0.30210334, -0.04183792,\n",
       "        -0.53855765,  0.42789885, -0.03029395,  0.39560688,  0.66673964,\n",
       "         0.61948377, -0.16860503, -0.5883464 , -0.62169015,  0.2475147 ,\n",
       "        -0.26395023,  0.23827994,  0.50678384, -0.02866132, -0.11433201,\n",
       "        -0.5629684 ,  0.8275243 , -0.5652199 , -0.38346866,  0.5856576 ,\n",
       "        -0.22631747,  0.15973347, -0.14592959, -0.16705424,  0.06736244,\n",
       "         0.10569   , -0.17323902,  0.53796756,  0.48487884,  0.8457627 ,\n",
       "         0.66943324, -0.20565933, -0.78495365,  0.07589911,  0.25233224,\n",
       "        -0.5694959 , -0.05435085, -0.08858333, -0.55116564,  0.2916977 ,\n",
       "         0.4318115 ,  0.24637665, -0.35554272]], dtype=float32)>, past_key_values=None, hidden_states=None, attentions=None, cross_attentions=None)"
      ]
     },
     "execution_count": 93,
     "metadata": {},
     "output_type": "execute_result"
    }
   ],
   "source": [
    "model(a)"
   ]
  },
  {
   "cell_type": "code",
   "execution_count": 138,
   "metadata": {},
   "outputs": [],
   "source": [
    "#pre_processing layer using tokenizer\n",
    "\n",
    "preprocess = lambda x: tokenizer.encode_plus(list(x), return_tensors=\"tf\", max_length=128, pad_to_max_length=True)\n",
    "layer_preprocess = tf.keras.layers.Lambda(preprocess, name='preprocessing')\n"
   ]
  },
  {
   "cell_type": "code",
   "execution_count": 134,
   "metadata": {},
   "outputs": [
    {
     "data": {
      "text/plain": [
       "<keras.layers.core.lambda_layer.Lambda at 0x18205c5f700>"
      ]
     },
     "execution_count": 134,
     "metadata": {},
     "output_type": "execute_result"
    }
   ],
   "source": [
    "layer_preprocess"
   ]
  },
  {
   "cell_type": "code",
   "execution_count": 7,
   "metadata": {},
   "outputs": [],
   "source": [
    "input_token_1 = tf.keras.layers.Input(shape=(128,), dtype='int32')\n",
    "input_token_2 = tf.keras.layers.Input(shape=(128,), dtype='int32')\n",
    "input_attn_1 = tf.keras.layers.Input(shape=(128,), dtype='int32')\n",
    "input_attn_2 = tf.keras.layers.Input(shape=(128,), dtype='int32')\n",
    "input_token_type_1 = tf.keras.layers.Input(shape=(128,), dtype='int32')\n",
    "input_token_type_2 = tf.keras.layers.Input(shape=(128,), dtype='int32')\n",
    "input_1 = [input_token_1, input_attn_1, input_token_type_1]\n",
    "input_2 = [input_token_2, input_attn_2, input_token_type_2]\n",
    "\n",
    "x = model(input_1).last_hidden_state\n",
    "y = model(input_2).last_hidden_state\n",
    "cosine = tf.keras.layers.Dot(axes=1, normalize=True)([x, y])\n",
    "model_final = tf.keras.Model([input_1, input_2], cosine)\n",
    "\n"
   ]
  },
  {
   "cell_type": "code",
   "execution_count": 9,
   "metadata": {},
   "outputs": [
    {
     "name": "stdout",
     "output_type": "stream",
     "text": [
      "Model: \"model\"\n",
      "__________________________________________________________________________________________________\n",
      " Layer (type)                   Output Shape         Param #     Connected to                     \n",
      "==================================================================================================\n",
      " input_1 (InputLayer)           [(None, 128)]        0           []                               \n",
      "                                                                                                  \n",
      " input_3 (InputLayer)           [(None, 128)]        0           []                               \n",
      "                                                                                                  \n",
      " input_5 (InputLayer)           [(None, 128)]        0           []                               \n",
      "                                                                                                  \n",
      " input_2 (InputLayer)           [(None, 128)]        0           []                               \n",
      "                                                                                                  \n",
      " input_4 (InputLayer)           [(None, 128)]        0           []                               \n",
      "                                                                                                  \n",
      " input_6 (InputLayer)           [(None, 128)]        0           []                               \n",
      "                                                                                                  \n",
      " tf_bert_model (TFBertModel)    TFBaseModelOutputWi  110558208   ['input_1[0][0]',                \n",
      "                                thPoolingAndCrossAt               'input_3[0][0]',                \n",
      "                                tentions(last_hidde               'input_5[0][0]',                \n",
      "                                n_state=(None, 128,               'input_2[0][0]',                \n",
      "                                 768),                            'input_4[0][0]',                \n",
      "                                 pooler_output=(Non               'input_6[0][0]']                \n",
      "                                e, 768),                                                          \n",
      "                                 past_key_values=No                                               \n",
      "                                ne, hidden_states=N                                               \n",
      "                                one, attentions=Non                                               \n",
      "                                e, cross_attentions                                               \n",
      "                                =None)                                                            \n",
      "                                                                                                  \n",
      " dot (Dot)                      (None, 768, 768)     0           ['tf_bert_model[0][0]',          \n",
      "                                                                  'tf_bert_model[1][0]']          \n",
      "                                                                                                  \n",
      "==================================================================================================\n",
      "Total params: 110,558,208\n",
      "Trainable params: 110,558,208\n",
      "Non-trainable params: 0\n",
      "__________________________________________________________________________________________________\n"
     ]
    }
   ],
   "source": [
    "model_final.summary()"
   ]
  },
  {
   "cell_type": "code",
   "execution_count": 11,
   "metadata": {},
   "outputs": [
    {
     "data": {
      "image/png": "[encoded data removed]",
      "text/plain": [
       "<IPython.core.display.Image object>"
      ]
     },
     "execution_count": 11,
     "metadata": {},
     "output_type": "execute_result"
    }
   ],
   "source": [
    "tf.keras.utils.plot_model(model_final)"
   ]
  },
  {
   "cell_type": "code",
   "execution_count": null,
   "metadata": {},
   "outputs": [],
   "source": []
  }
 ],
 "metadata": {
  "kernelspec": {
   "display_name": "keras-nlp",
   "language": "python",
   "name": "python3"
  },
  "language_info": {
   "codemirror_mode": {
    "name": "ipython",
    "version": 3
   },
   "file_extension": ".py",
   "mimetype": "text/x-python",
   "name": "python",
   "nbconvert_exporter": "python",
   "pygments_lexer": "ipython3",
   "version": "3.10.10"
  },
  "orig_nbformat": 4
 },
 "nbformat": 4,
 "nbformat_minor": 2
}
